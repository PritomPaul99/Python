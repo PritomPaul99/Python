{
 "cells": [
  {
   "cell_type": "code",
   "execution_count": 1,
   "metadata": {},
   "outputs": [],
   "source": [
    "class person:\n",
    "    def __init__(self, name, age) -> None:\n",
    "        self.name = name\n",
    "        self.age = age\n",
    "\n",
    "    def person1(self):\n",
    "        per1 = {self.name, self.age}\n",
    "        return per1\n"
   ]
  },
  {
   "cell_type": "code",
   "execution_count": 2,
   "metadata": {},
   "outputs": [
    {
     "name": "stdout",
     "output_type": "stream",
     "text": [
      "{'Akhi', 22}\n"
     ]
    }
   ],
   "source": [
    "p1 = person(\"Akhi\", 22)\n",
    "print(p1.person1())\n"
   ]
  },
  {
   "cell_type": "code",
   "execution_count": 1,
   "metadata": {},
   "outputs": [
    {
     "name": "stdout",
     "output_type": "stream",
     "text": [
      "  CP CP   CP CP   \n",
      "CP     CP     CP \n",
      "CP           CP \n",
      "  CP       CP   \n",
      "    CP   CP     \n",
      "      CP       \n"
     ]
    }
   ],
   "source": [
    "for row in range(6):\n",
    "    for col in range(7):\n",
    "        if (row == 0 and col % 3 != 0) or (row == 1 and col % 3 == 0) or (row-col == 2) or (row+col == 8):\n",
    "            print(\"CP\", end=\" \")\n",
    "        else:\n",
    "            print(end=\"  \")\n",
    "    print()\n"
   ]
  },
  {
   "cell_type": "code",
   "execution_count": null,
   "metadata": {},
   "outputs": [],
   "source": []
  }
 ],
 "metadata": {
  "kernelspec": {
   "display_name": "Python 3.10.0 64-bit",
   "language": "python",
   "name": "python3"
  },
  "language_info": {
   "codemirror_mode": {
    "name": "ipython",
    "version": 3
   },
   "file_extension": ".py",
   "mimetype": "text/x-python",
   "name": "python",
   "nbconvert_exporter": "python",
   "pygments_lexer": "ipython3",
   "version": "3.10.0"
  },
  "orig_nbformat": 4,
  "vscode": {
   "interpreter": {
    "hash": "369f2c481f4da34e4445cda3fffd2e751bd1c4d706f27375911949ba6bb62e1c"
   }
  }
 },
 "nbformat": 4,
 "nbformat_minor": 2
}

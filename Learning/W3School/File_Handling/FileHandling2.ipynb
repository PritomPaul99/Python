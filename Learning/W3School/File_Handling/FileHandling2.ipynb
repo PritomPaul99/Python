{
 "cells": [
  {
   "cell_type": "markdown",
   "metadata": {},
   "source": [
    "# create, append, write"
   ]
  },
  {
   "cell_type": "markdown",
   "metadata": {},
   "source": [
    "Create file"
   ]
  },
  {
   "cell_type": "code",
   "execution_count": 10,
   "metadata": {},
   "outputs": [],
   "source": [
    "f = open(\"NewFile.txt\", \"x\")"
   ]
  },
  {
   "cell_type": "markdown",
   "metadata": {},
   "source": [
    "Write in the file\n"
   ]
  },
  {
   "cell_type": "code",
   "execution_count": 17,
   "metadata": {},
   "outputs": [
    {
     "name": "stdout",
     "output_type": "stream",
     "text": [
      "This is the first line.\n",
      "\n"
     ]
    }
   ],
   "source": [
    "# Write in the file\n",
    "f = open(\"NewFile.txt\", \"w\")\n",
    "f.write(\"This is the first line.\\n\")\n",
    "f.close()\n",
    "\n",
    "# Read the file\n",
    "f = open(\"NewFile.txt\", \"rt\")\n",
    "print(f.read())\n",
    "f.close()"
   ]
  },
  {
   "cell_type": "markdown",
   "metadata": {},
   "source": [
    "Append in the file\n"
   ]
  },
  {
   "cell_type": "code",
   "execution_count": 18,
   "metadata": {},
   "outputs": [
    {
     "name": "stdout",
     "output_type": "stream",
     "text": [
      "This is the first line.\n",
      "This is the second line in the file.\n"
     ]
    }
   ],
   "source": [
    "# appending a line in the file\n",
    "f = open(\"NewFile.txt\", \"a\")\n",
    "f.write(\"This is the second line in the file.\")\n",
    "f.close()\n",
    "\n",
    "# Opening and Reading the file\n",
    "f = open(\"NewFile.txt\", \"rt\")\n",
    "print(f.read())\n",
    "f.close()"
   ]
  },
  {
   "cell_type": "markdown",
   "metadata": {},
   "source": [
    "Write in the file, it will replace the previous texts"
   ]
  },
  {
   "cell_type": "code",
   "execution_count": 19,
   "metadata": {},
   "outputs": [
    {
     "name": "stdout",
     "output_type": "stream",
     "text": [
      "Opps! I deleted the previous texts, or should I say replaced it!\n"
     ]
    }
   ],
   "source": [
    "# Write\n",
    "f = open(\"NewFile.txt\", \"w\")\n",
    "f.write(\"Ops! I deleted the previous texts, or should I say replaced it!\")\n",
    "f.close()\n",
    "\n",
    "# Read\n",
    "f = open(\"NewFile.txt\", \"rt\")\n",
    "print(f.read())\n",
    "f.close()"
   ]
  },
  {
   "cell_type": "markdown",
   "metadata": {},
   "source": [
    "Create a file if it doesn't exist"
   ]
  },
  {
   "cell_type": "code",
   "execution_count": 20,
   "metadata": {},
   "outputs": [
    {
     "name": "stdout",
     "output_type": "stream",
     "text": [
      "First line of the file.\n"
     ]
    }
   ],
   "source": [
    "f = open(\"NewFile2.txt\", \"w\")\n",
    "f = open(\"NewFile.txt\", \"w\")\n",
    "f.write(\"First line of the file.\")\n",
    "f = open(\"NewFile.txt\", \"r\")\n",
    "print(f.read())\n",
    "f.close()"
   ]
  },
  {
   "cell_type": "code",
   "execution_count": null,
   "metadata": {},
   "outputs": [],
   "source": []
  }
 ],
 "metadata": {
  "kernelspec": {
   "display_name": "Python 3.10.0 64-bit",
   "language": "python",
   "name": "python3"
  },
  "language_info": {
   "codemirror_mode": {
    "name": "ipython",
    "version": 3
   },
   "file_extension": ".py",
   "mimetype": "text/x-python",
   "name": "python",
   "nbconvert_exporter": "python",
   "pygments_lexer": "ipython3",
   "version": "3.10.0"
  },
  "orig_nbformat": 4,
  "vscode": {
   "interpreter": {
    "hash": "369f2c481f4da34e4445cda3fffd2e751bd1c4d706f27375911949ba6bb62e1c"
   }
  }
 },
 "nbformat": 4,
 "nbformat_minor": 2
}

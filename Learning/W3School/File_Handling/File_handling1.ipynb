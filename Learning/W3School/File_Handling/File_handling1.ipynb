{
 "cells": [
  {
   "cell_type": "markdown",
   "metadata": {},
   "source": [
    "There are four different methods (modes) for opening a file:\n",
    "\n",
    "\"r\" - Read - Default value. Opens a file for reading, error if the file does not exist\n",
    "\n",
    "\"a\" - Append - Opens a file for appending, creates the file if it does not exist\n",
    "\n",
    "\"w\" - Write - Opens a file for writing, creates the file if it does not exist\n",
    "\n",
    "\"x\" - Create - Creates the specified file, returns an error if the file exists\n",
    "\n",
    "In addition you can specify if the file should be handled as binary or text mode\n",
    "\n",
    "\"t\" - Text - Default value. Text mode\n",
    "\n",
    "\"b\" - Binary - Binary mode (e.g. images)"
   ]
  },
  {
   "cell_type": "code",
   "execution_count": 4,
   "metadata": {},
   "outputs": [],
   "source": [
    "f = open(\"hello.txt\")"
   ]
  },
  {
   "cell_type": "code",
   "execution_count": 5,
   "metadata": {},
   "outputs": [
    {
     "name": "stdout",
     "output_type": "stream",
     "text": [
      "Pritom paul\n",
      "He is a student.\n",
      "HE loves programming.\n",
      "He also wants to be successful in his life.\n"
     ]
    }
   ],
   "source": [
    "f = open(\"hello.txt\", \"rt\")\n",
    "print(f.read())"
   ]
  },
  {
   "cell_type": "code",
   "execution_count": 6,
   "metadata": {},
   "outputs": [
    {
     "name": "stdout",
     "output_type": "stream",
     "text": [
      "# Python\n",
      "All the python codes will be pushed here\n",
      "\n"
     ]
    }
   ],
   "source": [
    "f = open(\"D:\\Programming\\VS_Code\\Python\\README.md\", \"rt\")\n",
    "print(f.read())"
   ]
  },
  {
   "cell_type": "code",
   "execution_count": 7,
   "metadata": {},
   "outputs": [
    {
     "name": "stdout",
     "output_type": "stream",
     "text": [
      "Pri\n"
     ]
    }
   ],
   "source": [
    "f = open(\"D:\\Programming\\VS_Code\\Python\\Learning\\W3School\\File_Handling\\hello.txt\", \"rt\")\n",
    "print(f.read(3))"
   ]
  },
  {
   "cell_type": "code",
   "execution_count": 8,
   "metadata": {},
   "outputs": [
    {
     "name": "stdout",
     "output_type": "stream",
     "text": [
      "Pritom paul\n",
      "\n",
      "He is a student.\n",
      "\n",
      "HE loves programming.\n",
      "\n"
     ]
    }
   ],
   "source": [
    "f = open(\"D:\\Programming\\VS_Code\\Python\\Learning\\W3School\\File_Handling\\hello.txt\", \"rt\")\n",
    "print(f.readline())\n",
    "print(f.readline())\n",
    "print(f.readline())"
   ]
  },
  {
   "cell_type": "code",
   "execution_count": 9,
   "metadata": {},
   "outputs": [
    {
     "name": "stdout",
     "output_type": "stream",
     "text": [
      "Pritom paul\n",
      "\n",
      "He is a student.\n",
      "\n",
      "HE loves programming.\n",
      "\n",
      "He also wants to be successful in his life.\n"
     ]
    }
   ],
   "source": [
    "f = open(\"D:\\Programming\\VS_Code\\Python\\Learning\\W3School\\File_Handling\\hello.txt\", \"rt\")\n",
    "\n",
    "for it in f:\n",
    "    print(it)"
   ]
  },
  {
   "cell_type": "code",
   "execution_count": 13,
   "metadata": {},
   "outputs": [
    {
     "name": "stdout",
     "output_type": "stream",
     "text": [
      "['Pritom paul\\n', 'He is a student.\\n', 'HE loves programming.\\n', 'He also wants to be successful in his life.']\n"
     ]
    }
   ],
   "source": [
    "f = open(\"D:\\Programming\\VS_Code\\Python\\Learning\\W3School\\File_Handling\\hello.txt\", \"rt\")\n",
    "print(f.readlines())"
   ]
  },
  {
   "cell_type": "code",
   "execution_count": 14,
   "metadata": {},
   "outputs": [
    {
     "name": "stdout",
     "output_type": "stream",
     "text": [
      "['Pritom paul\\n', 'He is a student.\\n', 'HE loves programming.\\n', 'He also wants to be successful in his life.']\n"
     ]
    }
   ],
   "source": [
    "f = open(\"D:\\Programming\\VS_Code\\Python\\Learning\\W3School\\File_Handling\\hello.txt\", \"rt\")\n",
    "print(f.readlines())\n",
    "f.close()"
   ]
  },
  {
   "cell_type": "code",
   "execution_count": null,
   "metadata": {},
   "outputs": [],
   "source": []
  }
 ],
 "metadata": {
  "kernelspec": {
   "display_name": "Python 3.10.0 64-bit",
   "language": "python",
   "name": "python3"
  },
  "language_info": {
   "codemirror_mode": {
    "name": "ipython",
    "version": 3
   },
   "file_extension": ".py",
   "mimetype": "text/x-python",
   "name": "python",
   "nbconvert_exporter": "python",
   "pygments_lexer": "ipython3",
   "version": "3.10.0"
  },
  "orig_nbformat": 4,
  "vscode": {
   "interpreter": {
    "hash": "369f2c481f4da34e4445cda3fffd2e751bd1c4d706f27375911949ba6bb62e1c"
   }
  }
 },
 "nbformat": 4,
 "nbformat_minor": 2
}

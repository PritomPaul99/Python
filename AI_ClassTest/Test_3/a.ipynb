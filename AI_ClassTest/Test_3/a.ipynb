{
 "cells": [
  {
   "cell_type": "markdown",
   "metadata": {},
   "source": [
    "1. take n, create n\\*n matrix, populate them with random number between 0 to 1.\n"
   ]
  },
  {
   "cell_type": "code",
   "execution_count": 56,
   "metadata": {},
   "outputs": [],
   "source": [
    "import numpy as np\n",
    "import math\n"
   ]
  },
  {
   "cell_type": "code",
   "execution_count": 57,
   "metadata": {},
   "outputs": [
    {
     "name": "stdout",
     "output_type": "stream",
     "text": [
      "[[0.77587789 0.58175791 0.70949558 0.74856419]\n",
      " [0.15069597 0.29545337 0.24101034 0.48517787]\n",
      " [0.55120977 0.78469715 0.31901371 0.00360919]\n",
      " [0.87177745 0.53205386 0.34004765 0.0285416 ]]\n"
     ]
    }
   ],
   "source": [
    "from numpy import random\n",
    "n = int(input(\"Take n: \"))\n",
    "\n",
    "rnum = random.rand(n, n)\n",
    "\n",
    "print(rnum)\n"
   ]
  },
  {
   "cell_type": "markdown",
   "metadata": {},
   "source": [
    "2. Find L2 norm\n"
   ]
  },
  {
   "cell_type": "code",
   "execution_count": 58,
   "metadata": {},
   "outputs": [
    {
     "name": "stdout",
     "output_type": "stream",
     "text": [
      "L2 norm using function: 2.1420867107895942\n",
      "L2 norm using iteration: 2.142086710789594\n"
     ]
    }
   ],
   "source": [
    "# from cmath import sqrt\n",
    "from numpy import linalg\n",
    "arr = rnum.reshape(-1,)\n",
    "\n",
    "l2N = linalg.norm(arr)\n",
    "print(\"L2 norm using function:\", l2N)\n",
    "\n",
    "x = 0\n",
    "for i in arr:\n",
    "    x += i*i\n",
    "sx = (math.sqrt(x))\n",
    "print(\"L2 norm using iteration:\", sx)\n"
   ]
  },
  {
   "cell_type": "markdown",
   "metadata": {},
   "source": [
    "3.  Find the trace\n"
   ]
  },
  {
   "cell_type": "code",
   "execution_count": 59,
   "metadata": {},
   "outputs": [
    {
     "name": "stdout",
     "output_type": "stream",
     "text": [
      "Trace of the matrix: 44.44538676636133\n"
     ]
    }
   ],
   "source": [
    "m, n = 0, 0\n",
    "\n",
    "for i in arr:\n",
    "    m += i*i\n",
    "    n += m\n",
    "print(\"Trace of the matrix:\", n)\n"
   ]
  },
  {
   "cell_type": "code",
   "execution_count": null,
   "metadata": {},
   "outputs": [],
   "source": []
  }
 ],
 "metadata": {
  "kernelspec": {
   "display_name": "Python 3.10.0 64-bit",
   "language": "python",
   "name": "python3"
  },
  "language_info": {
   "codemirror_mode": {
    "name": "ipython",
    "version": 3
   },
   "file_extension": ".py",
   "mimetype": "text/x-python",
   "name": "python",
   "nbconvert_exporter": "python",
   "pygments_lexer": "ipython3",
   "version": "3.10.0"
  },
  "orig_nbformat": 4,
  "vscode": {
   "interpreter": {
    "hash": "369f2c481f4da34e4445cda3fffd2e751bd1c4d706f27375911949ba6bb62e1c"
   }
  }
 },
 "nbformat": 4,
 "nbformat_minor": 2
}

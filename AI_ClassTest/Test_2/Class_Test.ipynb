{
 "cells": [
  {
   "cell_type": "code",
   "execution_count": 40,
   "metadata": {},
   "outputs": [],
   "source": [
    "class Student:\n",
    "    def __init__(self, id) -> None:\n",
    "        self.id = id\n",
    "        self.course = {1: \"Algorithm\", 2: \"Networking\",\n",
    "                       3: \"Artificial Intelligence\", 4: \"Machine Learning\"}\n"
   ]
  },
  {
   "cell_type": "code",
   "execution_count": 41,
   "metadata": {},
   "outputs": [],
   "source": [
    "class Grade:\n",
    "    def __init__(self, courseName, ATT, TT, MS, SF) -> None:\n",
    "        self.courseName = courseName\n",
    "        self.ATT = ATT\n",
    "        self.TT = TT\n",
    "        self.MS = MS\n",
    "        self.SF = SF\n",
    "        \n",
    "    \n",
    "    def grade(self):\n",
    "        grd = self.ATT + self.MS + self.TT + self.SF\n",
    "        if(grd >= 80): \n",
    "            s = \"A+\"\n",
    "        elif grd >= 70 and grd < 80:\n",
    "            s = \"A\"\n",
    "        elif grd >= 60 and grd < 70:\n",
    "            s = \"A-\"\n",
    "        else:\n",
    "            s = \"less than 6!\"\n",
    "        # print(s, end=\" \")\n",
    "        return s\n"
   ]
  },
  {
   "cell_type": "code",
   "execution_count": 42,
   "metadata": {},
   "outputs": [],
   "source": [
    "def attMark(policy, cn, pn):\n",
    "    if policy == 1:\n",
    "\n",
    "        P_mark = (100*pn)/cn\n",
    "\n",
    "        if P_mark >= 95:\n",
    "            return 10\n",
    "        elif P_mark >= 90 and P_mark < 95:\n",
    "            return 9\n",
    "        elif P_mark >= 85 and P_mark < 90:\n",
    "            return 8\n",
    "        elif P_mark >= 80 and P_mark < 85:\n",
    "            return 7\n",
    "        elif P_mark >= 75 and P_mark < 80:\n",
    "            return 6\n",
    "        elif P_mark >= 70 and P_mark < 75:\n",
    "            return 5\n",
    "        elif P_mark >= 65 and P_mark < 70:\n",
    "            return 4\n",
    "        elif P_mark >= 60 and P_mark < 65:\n",
    "            return 3\n",
    "        else:\n",
    "            return 1\n",
    "\n",
    "    elif policy == 2:\n",
    "        pm = (cn - pn) - 10\n",
    "\n",
    "        if(pm <= 0):\n",
    "            return 1\n",
    "        else:\n",
    "            return pm\n"
   ]
  },
  {
   "cell_type": "code",
   "execution_count": 43,
   "metadata": {},
   "outputs": [],
   "source": [
    "def ttMark(policy, tn, lst):\n",
    "    if policy == 1:\n",
    "        total = 0\n",
    "        for i in range(0, tn):\n",
    "            total += lst[i]\n",
    "        return (total/tn)*2\n",
    "\n",
    "    else:\n",
    "        return lst[0]+lst[1]\n"
   ]
  },
  {
   "cell_type": "code",
   "execution_count": 46,
   "metadata": {},
   "outputs": [],
   "source": [
    "def main():\n",
    "    it = int(input(\"Please enter the number of student: \"))\n",
    "\n",
    "    for i in range(0, it):\n",
    "        idNum = int(input(\"Please enter the student id: \"))\n",
    "        crs = int(input(\n",
    "            \"1: Algorithm\\n2: Networking\\n3: Artificial Intelligence\\n4: Machine Learning\\nPlease select a course:\"))\n",
    "        ap = int(input(\"Select attendance policy (1 / 2): \"))\n",
    "        tp = int(input(\"Select tutorial policy (1 / 2): \"))\n",
    "\n",
    "        totalClass = int(input(\"Enter total number of class(s): \"))\n",
    "        presClass = int(input(\"Enter total number of present(s): \"))\n",
    "\n",
    "        tt = int(input(\"Please, enter the number of total tutorials: \"))\n",
    "        lst = []\n",
    "        for i in range(0, tt):\n",
    "            mrk = int(input())\n",
    "            lst.append(mrk)\n",
    "        lst.sort()\n",
    "        mid = int(input(\"Enter Mid-Semester mark: \"))\n",
    "        final = int(input(\"Enter Semester-Final mark: \"))\n",
    "\n",
    "        att_Mark = attMark(ap, totalClass, presClass)\n",
    "        tt_Mark = ttMark(tp, tt, lst)\n",
    "\n",
    "        std = Student(idNum)\n",
    "\n",
    "        if crs == 1:\n",
    "            crName = \"Algorithm\"\n",
    "        elif crs == 2:\n",
    "            crName = \"Networking\"\n",
    "        elif crs == 3:\n",
    "            crName = \"Artificial Intelligence\"\n",
    "        elif crs == 4:\n",
    "            crName = \"Machine Learning\"\n",
    "        grd = Grade(crName, att_Mark, tt_Mark, mid, final)\n",
    "\n",
    "        print(std.id, \"got\", grd.grade(), \"in\" , std.course[crs])\n"
   ]
  },
  {
   "cell_type": "code",
   "execution_count": 45,
   "metadata": {},
   "outputs": [
    {
     "name": "stdout",
     "output_type": "stream",
     "text": [
      "232323  got  A+ in Algorithm\n"
     ]
    }
   ],
   "source": [
    "main()\n"
   ]
  },
  {
   "cell_type": "code",
   "execution_count": null,
   "metadata": {},
   "outputs": [],
   "source": []
  }
 ],
 "metadata": {
  "kernelspec": {
   "display_name": "Python 3.10.0 64-bit",
   "language": "python",
   "name": "python3"
  },
  "language_info": {
   "codemirror_mode": {
    "name": "ipython",
    "version": 3
   },
   "file_extension": ".py",
   "mimetype": "text/x-python",
   "name": "python",
   "nbconvert_exporter": "python",
   "pygments_lexer": "ipython3",
   "version": "3.10.0"
  },
  "orig_nbformat": 4,
  "vscode": {
   "interpreter": {
    "hash": "369f2c481f4da34e4445cda3fffd2e751bd1c4d706f27375911949ba6bb62e1c"
   }
  }
 },
 "nbformat": 4,
 "nbformat_minor": 2
}

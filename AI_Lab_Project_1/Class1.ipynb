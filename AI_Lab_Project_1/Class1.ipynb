{
 "cells": [
  {
   "cell_type": "markdown",
   "metadata": {},
   "source": [
    "Task 1: Create a 2D numpy array.\n"
   ]
  },
  {
   "cell_type": "code",
   "execution_count": 1,
   "metadata": {},
   "outputs": [],
   "source": [
    "import numpy as np\n"
   ]
  },
  {
   "cell_type": "code",
   "execution_count": 2,
   "metadata": {},
   "outputs": [],
   "source": [
    "def CreateSudoku():\n",
    "    arr = np.array([[3,3, 0, 1],\n",
    "                    [0, 1, 3, 2],\n",
    "                    [0, 0, 2, 3],\n",
    "                    [0, 0, 0, 4]])\n",
    "    return arr\n",
    "    # arr.shape\n"
   ]
  },
  {
   "cell_type": "code",
   "execution_count": 3,
   "metadata": {},
   "outputs": [
    {
     "name": "stdout",
     "output_type": "stream",
     "text": [
      "[[3 3 0 1]\n",
      " [0 1 3 2]\n",
      " [0 0 2 3]\n",
      " [0 0 0 4]]\n"
     ]
    }
   ],
   "source": [
    "sudoku = CreateSudoku()\n",
    "print(sudoku)\n"
   ]
  },
  {
   "cell_type": "markdown",
   "metadata": {},
   "source": [
    "Task 2: Create a class 'Sudoku', create idBoardValid(board).\n"
   ]
  },
  {
   "cell_type": "code",
   "execution_count": 4,
   "metadata": {},
   "outputs": [],
   "source": [
    "class Sudoku:\n",
    "    def __init__(self, sudoku) -> None:\n",
    "        self.sudoku = sudoku\n",
    "\n",
    "    def isBoardValid(self):\n",
    "        # print(self.sudoku)\n",
    "        st = set()\n",
    "        cnt = 0\n",
    "        for i in self.sudoku:\n",
    "            for j in i:\n",
    "                if j == 0:\n",
    "                    continue\n",
    "                else:\n",
    "                    st.add(j)\n",
    "                    cnt += 1\n",
    "            if len(st) != cnt:\n",
    "                return 0\n",
    "            else:\n",
    "                st.clear()\n",
    "                cnt = 0\n",
    "\n",
    "        for i in range(self.sudoku.shape[1]):\n",
    "            x = self.sudoku[:, i]\n",
    "\n",
    "            st1 = set()\n",
    "            cnt1 = 0\n",
    "            for it in x:\n",
    "                if it == 0:\n",
    "                    continue\n",
    "                else:\n",
    "                    st1.add(it)\n",
    "                    cnt1 += 1\n",
    "            if len(st1) != cnt1:\n",
    "                return 0\n",
    "            else:\n",
    "                st1.clear()\n",
    "                cnt1 = 0\n",
    "\n",
    "        stat1 = set()\n",
    "        c1 = 0\n",
    "        stat2 = set()\n",
    "        c2 = 0\n",
    "        stat3 = set()\n",
    "        c3 = 0\n",
    "        stat4 = set()\n",
    "        c4 = 0\n",
    "\n",
    "        for i in range(0, 2):\n",
    "            for j in range(0, 2):\n",
    "                if self.sudoku[i, j] == 0:\n",
    "                    continue\n",
    "                else:\n",
    "                    stat1.add(self.sudoku[i, j])\n",
    "                    c1 += 1\n",
    "        if len(stat1) != c1:\n",
    "            return 0\n",
    "\n",
    "        \n",
    "        for i in range(2, 4):\n",
    "            for j in range(2, 4):\n",
    "                if self.sudoku[i, j] == 0:\n",
    "                    continue\n",
    "                else:\n",
    "                    stat2.add(self.sudoku[i, j])\n",
    "                    c2 += 1\n",
    "        if len(stat2) != c2:\n",
    "            return 0\n",
    "\n",
    "\n",
    "        for i in range(2, 2):\n",
    "            for j in range(0, 2):\n",
    "                if self.sudoku[i, j] == 0:\n",
    "                    continue\n",
    "                else:\n",
    "                    stat3.add(self.sudoku[i, j])\n",
    "                    c3 += 1\n",
    "        if len(stat3) != c3:\n",
    "            return 0\n",
    "\n",
    "        for i in range(0, 2):\n",
    "            for j in range(2, 4):\n",
    "                if self.sudoku[i, j] == 0:\n",
    "                    continue\n",
    "                else:\n",
    "                    stat4.add(self.sudoku[i, j])\n",
    "                    c4 += 1\n",
    "        if len(stat4) != c4:\n",
    "            return 0\n",
    "\n",
    "        \n",
    "        return 1\n"
   ]
  },
  {
   "cell_type": "code",
   "execution_count": 5,
   "metadata": {},
   "outputs": [
    {
     "name": "stdout",
     "output_type": "stream",
     "text": [
      "Not a valid board!\n"
     ]
    }
   ],
   "source": [
    "t1 = Sudoku(sudoku)\n",
    "ck = t1.isBoardValid()\n",
    "\n",
    "if ck == 0:\n",
    "    print(\"Not a valid board!\")\n",
    "else:\n",
    "    print(\"A valid board!\")\n"
   ]
  }
 ],
 "metadata": {
  "kernelspec": {
   "display_name": "Python 3.10.0 64-bit",
   "language": "python",
   "name": "python3"
  },
  "language_info": {
   "codemirror_mode": {
    "name": "ipython",
    "version": 3
   },
   "file_extension": ".py",
   "mimetype": "text/x-python",
   "name": "python",
   "nbconvert_exporter": "python",
   "pygments_lexer": "ipython3",
   "version": "3.10.0"
  },
  "orig_nbformat": 4,
  "vscode": {
   "interpreter": {
    "hash": "369f2c481f4da34e4445cda3fffd2e751bd1c4d706f27375911949ba6bb62e1c"
   }
  }
 },
 "nbformat": 4,
 "nbformat_minor": 2
}

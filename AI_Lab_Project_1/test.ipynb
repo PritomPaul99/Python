{
 "cells": [
  {
   "cell_type": "markdown",
   "metadata": {},
   "source": [
    "# This is test.\n"
   ]
  },
  {
   "cell_type": "code",
   "execution_count": 10,
   "metadata": {},
   "outputs": [],
   "source": [
    "import numpy as np\n"
   ]
  },
  {
   "cell_type": "code",
   "execution_count": 11,
   "metadata": {},
   "outputs": [],
   "source": [
    "arr = np.array([[3, 0, 0, 1], [0, 1, 3, 2], [0, 0, 2, 3], [0, 0, 0, 4]])\n"
   ]
  },
  {
   "cell_type": "code",
   "execution_count": 13,
   "metadata": {},
   "outputs": [
    {
     "name": "stdout",
     "output_type": "stream",
     "text": [
      "[3 0 0 0]\n",
      "[0 1 0 0]\n",
      "[0 3 2 0]\n",
      "[1 2 3 4]\n"
     ]
    }
   ],
   "source": [
    "for i in range(arr.shape[1]):\n",
    "    print(arr[:, i])\n"
   ]
  },
  {
   "cell_type": "code",
   "execution_count": 15,
   "metadata": {},
   "outputs": [],
   "source": [
    "import numpy as np\n"
   ]
  },
  {
   "cell_type": "code",
   "execution_count": 20,
   "metadata": {},
   "outputs": [
    {
     "name": "stdout",
     "output_type": "stream",
     "text": [
      "1 2 \n",
      "4 5 \n"
     ]
    }
   ],
   "source": [
    "\n",
    "a = np.array([[1, 2, 3, 4], [4, 5, 6, 6], [7, 8, 9, 7], [10, 11, 12, 88]])\n",
    "\n",
    "for x in range(0, 2):\n",
    "    for y in range(0, 2):\n",
    "        print(a[x, y], end=\" \")\n",
    "    print()\n"
   ]
  },
  {
   "cell_type": "code",
   "execution_count": null,
   "metadata": {},
   "outputs": [],
   "source": []
  }
 ],
 "metadata": {
  "kernelspec": {
   "display_name": "Python 3.9.12 ('base')",
   "language": "python",
   "name": "python3"
  },
  "language_info": {
   "codemirror_mode": {
    "name": "ipython",
    "version": 3
   },
   "file_extension": ".py",
   "mimetype": "text/x-python",
   "name": "python",
   "nbconvert_exporter": "python",
   "pygments_lexer": "ipython3",
   "version": "3.9.12"
  },
  "orig_nbformat": 4,
  "vscode": {
   "interpreter": {
    "hash": "2b38c9cb14687bab019f59c21d5de97dc36e66f340a0790626fdb379d4130a07"
   }
  }
 },
 "nbformat": 4,
 "nbformat_minor": 2
}

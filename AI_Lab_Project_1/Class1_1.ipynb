{
 "cells": [
  {
   "cell_type": "markdown",
   "metadata": {},
   "source": [
    "Task 1: Create a 2D numpy array\n"
   ]
  },
  {
   "cell_type": "code",
   "execution_count": 11,
   "metadata": {},
   "outputs": [],
   "source": [
    "import numpy as np\n"
   ]
  },
  {
   "cell_type": "code",
   "execution_count": 12,
   "metadata": {},
   "outputs": [],
   "source": [
    "def CreateSudoku():\n",
    "    arr = np.array([[3, 0, 0, 1], [0, 1, 3, 2], [0, 0, 2, 3], [0, 0, 0, 4]])\n",
    "    return arr\n",
    "    # arr.shape\n"
   ]
  },
  {
   "cell_type": "code",
   "execution_count": 13,
   "metadata": {},
   "outputs": [
    {
     "name": "stdout",
     "output_type": "stream",
     "text": [
      "[[3 0 3 1]\n",
      " [0 1 3 2]\n",
      " [0 0 2 3]\n",
      " [0 0 0 4]]\n"
     ]
    }
   ],
   "source": [
    "sudoku = CreateSudoku()\n",
    "print(sudoku)\n"
   ]
  },
  {
   "cell_type": "markdown",
   "metadata": {},
   "source": [
    "Task 2: Create a class 'Sudoku', create idBoardValid(board).\n"
   ]
  },
  {
   "cell_type": "code",
   "execution_count": 14,
   "metadata": {},
   "outputs": [],
   "source": [
    "from ctypes import sizeof\n",
    "\n",
    "\n",
    "class Sudoku:\n",
    "    def __init__(self, sudoku) -> None:\n",
    "        self.sudoku = sudoku\n",
    "\n",
    "    def isBoardValid(self):\n",
    "        for i in range(4):\n",
    "            row = {}\n",
    "            col = {}\n",
    "            bl = {}\n",
    "\n",
    "            row_c = 2 * (i//2)\n",
    "            col_c = 2 * (i % 2)\n",
    "\n",
    "            for j in range(4):\n",
    "                if self.sudoku[i][j] != 0 and self.sudoku[i][j] in row:\n",
    "                    return False\n",
    "\n",
    "            row[self.sudoku[i][j]] = 1\n",
    "\n",
    "            if self.sudoku[j][i] != 0 and self.sudoku[j][i] in col:\n",
    "                return False\n",
    "\n",
    "            col[self.sudoku[j][i]] = 1\n",
    "\n",
    "            rc = row_c + j//2\n",
    "            cc = col_c + j % 2\n",
    "\n",
    "            if self.sudoku[rc][cc] in bl and self.sudoku[rc][cc] != 0:\n",
    "                return False\n",
    "\n",
    "            bl[self.sudoku[rc][cc]] = 1\n",
    "\n",
    "        return True\n"
   ]
  },
  {
   "cell_type": "code",
   "execution_count": 15,
   "metadata": {},
   "outputs": [
    {
     "name": "stdout",
     "output_type": "stream",
     "text": [
      "A valid board!\n"
     ]
    }
   ],
   "source": [
    "t1 = Sudoku(sudoku)\n",
    "ck = t1.isBoardValid()\n",
    "\n",
    "if ck == False:\n",
    "    print(\"Not a valid board!\")\n",
    "else:\n",
    "    print(\"A valid board!\")\n"
   ]
  },
  {
   "cell_type": "code",
   "execution_count": null,
   "metadata": {},
   "outputs": [],
   "source": []
  }
 ],
 "metadata": {
  "kernelspec": {
   "display_name": "Python 3.9.12 ('base')",
   "language": "python",
   "name": "python3"
  },
  "language_info": {
   "codemirror_mode": {
    "name": "ipython",
    "version": 3
   },
   "file_extension": ".py",
   "mimetype": "text/x-python",
   "name": "python",
   "nbconvert_exporter": "python",
   "pygments_lexer": "ipython3",
   "version": "3.9.12"
  },
  "orig_nbformat": 4,
  "vscode": {
   "interpreter": {
    "hash": "2b38c9cb14687bab019f59c21d5de97dc36e66f340a0790626fdb379d4130a07"
   }
  }
 },
 "nbformat": 4,
 "nbformat_minor": 2
}
